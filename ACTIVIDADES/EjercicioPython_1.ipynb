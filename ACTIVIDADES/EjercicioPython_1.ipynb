{
  "nbformat": 4,
  "nbformat_minor": 0,
  "metadata": {
    "colab": {
      "provenance": []
    },
    "kernelspec": {
      "name": "python3",
      "display_name": "Python 3"
    },
    "language_info": {
      "name": "python"
    }
  },
  "cells": [
    {
      "cell_type": "code",
      "source": [
        "\"\"\"\n",
        "Nombre:Raymundo Bautista Reyes\n",
        "Actividad 2:Diseño de algoritmos en Python\n",
        "Matricula:2082326\n",
        "Hora:N1\n",
        "\"\"\"\n",
        "codigo = \"Esta es mi presentacion para la actividad 2\"\n",
        "print(codigo)\n",
        ""
      ],
      "metadata": {
        "colab": {
          "base_uri": "https://localhost:8080/"
        },
        "id": "R7ZRP6GT0XKl",
        "outputId": "6e2b984a-ec26-438f-88a9-9c7829b9a611"
      },
      "execution_count": 50,
      "outputs": [
        {
          "output_type": "stream",
          "name": "stdout",
          "text": [
            "Esta es mi presentacion para la actividad 2\n"
          ]
        }
      ]
    },
    {
      "cell_type": "code",
      "source": [
        "#Ejercicio 1\n",
        "#Vamos a saludar Primero\n",
        "print(\"Reparaciones Raymundo Sea usted Bienvenido\")\n",
        "nombre = input(\"Indique su nombre:\" )\n",
        "nombre1 = nombre.lower()\n",
        "if nombre1 == \"ana\" or nombre1 == \"juan\" or nombre1 == \"pedro\":\n",
        "    print(\"Bienvenido pase\")\n",
        "else:\n",
        "    print(\"Hola \" + nombre  + \"\\nBienvenid\\a que tengas Excelente dia!!\")\n"
      ],
      "metadata": {
        "colab": {
          "base_uri": "https://localhost:8080/"
        },
        "id": "qxbEUjKECAPr",
        "outputId": "7fc5c3d0-3a5c-4076-a252-deba27d98d32"
      },
      "execution_count": 88,
      "outputs": [
        {
          "output_type": "stream",
          "name": "stdout",
          "text": [
            "Reparaciones Raymundo Sea usted Bienvenido\n",
            "Indique su nombre:Raymundo\n",
            "Hola Raymundo\n",
            "Bienvenid\u0007 que tengas Excelente dia!!\n"
          ]
        }
      ]
    },
    {
      "cell_type": "code",
      "source": [
        "#Ejercicio 2\n",
        "#Numeros con lista invertida\n",
        "#declaramos nuestra funcion\n",
        "def lista_invertida():\n",
        "    n_elementos  = int(input(\"Inserte la cantidad de elementos de la lista: \"))\n",
        "    lista = []\n",
        "\n",
        "    for _ in range(n_elementos):\n",
        "        elemento = input(\"Ingrese un elemento: \")\n",
        "        lista.append(elemento)\n",
        "#llamos ala funcions que nos va a invertir la lista\n",
        "    lista_invertida = lista[::-1]\n",
        "#imprimimos la lista de forma invertida\n",
        "    print(\"Lista invertida:\", lista_invertida)\n",
        "#ejecutar la funcion\n",
        "lista_invertida()"
      ],
      "metadata": {
        "colab": {
          "base_uri": "https://localhost:8080/"
        },
        "id": "XQ3XJE9jKQVH",
        "outputId": "6dc96c1b-7881-4dfd-d39b-acbc635ed93d"
      },
      "execution_count": 129,
      "outputs": [
        {
          "output_type": "stream",
          "name": "stdout",
          "text": [
            "Inserte la cantidad de elementos de la lista: 3\n",
            "Ingrese un elemento: 59\n",
            "Ingrese un elemento: 45\n",
            "Ingrese un elemento: 45\n",
            "Lista invertida: ['45', '45', '59']\n"
          ]
        }
      ]
    },
    {
      "cell_type": "code",
      "source": [
        "#Ejercicio 3\n",
        "#Serie Fibonacci\n",
        "def serie_fibonacci(numero):\n",
        "    serie = []\n",
        "    a, b = 0, 1\n",
        "    for _ in range(numero):\n",
        "        serie.append(a)\n",
        "        a, b = b, a + b\n",
        "    return serie\n",
        "\n",
        "def iniciar_evaluacion():\n",
        "    cantidad = int(input(\"cantidad de números de la serie Fibonacci que deseas generar: \"))\n",
        "    fibonacci_series = serie_fibonacci(cantidad)\n",
        "    print(\"La serie de Fibonacci con\", cantidad, \"números es:\")\n",
        "    for numero in fibonacci_series:\n",
        "        print(numero, end=\" \")\n",
        "\n",
        "# ejecutar la definicion dada\n",
        "iniciar_evaluacion()"
      ],
      "metadata": {
        "colab": {
          "base_uri": "https://localhost:8080/"
        },
        "id": "D0_1T9f2NwED",
        "outputId": "3be341fc-ad4f-4913-adbc-5724da745651"
      },
      "execution_count": 137,
      "outputs": [
        {
          "output_type": "stream",
          "name": "stdout",
          "text": [
            "cantidad de números de la serie Fibonacci que deseas generar: 8\n",
            "La serie de Fibonacci con 8 números es:\n",
            "0 1 1 2 3 5 8 13 "
          ]
        }
      ]
    },
    {
      "cell_type": "code",
      "source": [
        "import random\n",
        "#Ejercicio 4\n",
        "#Imprimimos nuestras intrucciones\n",
        "print(\"¡Bienvenido al juego, juega a adivinar el numero'!\")\n",
        "print(\"el numero se genera aleatoriamente intenta adivinarlo.\")\n",
        "print(\"Después de cada intento,recibiras una pista.\")\n",
        "print(\"¡comenzemos!\")\n",
        "\n",
        "# Generar un número  aleatorio entre 1 y 100\n",
        "numero_aleatorio = random.randint(1, 100)\n",
        "#Nos dira cuantos intentos llevamos\n",
        "intentos = 0\n",
        "\n",
        "# bucleo principal del juego\n",
        "while True:\n",
        "    intentos += 1\n",
        "    numero_pensado = input(\"Ingresa tu numero pensado (entre 1 y 100): \")\n",
        "\n",
        "    # Validar la entrada del jugador\n",
        "    if not numero_pensado.isdigit() or int(numero_pensado) < 1 or int(numero_pensado) > 100:\n",
        "        print(\"Por favor, ingresa un número válido en el rango de 1 a 100.\")\n",
        "        continue\n",
        "\n",
        "    numero_pensado = int(numero_pensado)\n",
        "    # Comparar la suposición con el número aleatorio\n",
        "    if numero_pensado < numero_aleatorio:\n",
        "        print(\"El número es mayor. ¡Intenta nuevamente!\")\n",
        "    elif numero_pensado > numero_aleatorio:\n",
        "        print(\"El número es menor. ¡Intenta nuevamente!\")\n",
        "    else:\n",
        "        print(f\"¡Felicidades! ¡Has adivinado el número !\")\n",
        "        break\n",
        "else:\n",
        "    print(\"Gracias por jugar. ¡Hasta la próxima\")"
      ],
      "metadata": {
        "colab": {
          "base_uri": "https://localhost:8080/"
        },
        "id": "vMLNE3pZSQ2N",
        "outputId": "88530137-ac0d-4a87-f641-d7816db2bb83"
      },
      "execution_count": 163,
      "outputs": [
        {
          "output_type": "stream",
          "name": "stdout",
          "text": [
            "¡Bienvenido al juego, juega a adivinar el numero'!\n",
            "el numero se genera aleatoriamente intenta adivinarlo.\n",
            "Después de cada intento,recibiras una pista.\n",
            "¡comenzemos!\n",
            "Ingresa tu numero pensado (entre 1 y 100): 85\n",
            "El número es menor. ¡Intenta nuevamente!\n",
            "Ingresa tu numero pensado (entre 1 y 100): 20\n",
            "¡Felicidades! ¡Has adivinado el número !\n"
          ]
        }
      ]
    },
    {
      "cell_type": "code",
      "source": [
        "#Ejercicio 5\n",
        "#solicitar ingresar los numero para comenzar\n",
        "print(\"Ingrese el rango de números para encontrar los números primos\")\n",
        "#Solicitamos dos numeros para dar continuidad\n",
        "inicio = int(input(\"Ingrese el número menor: \"))\n",
        "fin = int(input(\"Ingrese el número mayor: \"))\n",
        "\n",
        "contador_divisores = 2\n",
        "numero_actual = inicio\n",
        "#comenzamos el bucle\n",
        "while numero_actual <= fin:\n",
        "    cantidad_divisores = 0\n",
        "    divisor = 1\n",
        "    while divisor <= numero_actual:\n",
        "        if numero_actual % divisor == 0:\n",
        "            cantidad_divisores += 1\n",
        "        divisor += 1\n",
        "    if contador_divisores == cantidad_divisores:\n",
        "        print(\"El número\", numero_actual, \"es primo\")\n",
        "    numero_actual += 1"
      ],
      "metadata": {
        "colab": {
          "base_uri": "https://localhost:8080/"
        },
        "id": "djGGRjH7bXdL",
        "outputId": "030246f4-564c-4e59-c1b2-91f6d71c0cfc"
      },
      "execution_count": 178,
      "outputs": [
        {
          "output_type": "stream",
          "name": "stdout",
          "text": [
            "Ingrese el rango de números para encontrar los números primos\n",
            "Ingrese el número menor: 12\n",
            "Ingrese el número mayor: 20\n",
            "El número 13 es primo\n",
            "El número 17 es primo\n",
            "El número 19 es primo\n"
          ]
        }
      ]
    },
    {
      "cell_type": "code",
      "source": [
        "#Ejercicio 6\n",
        "#Declaramos los comentarios\n",
        "print(\"calculadora estándar\")\n",
        "numero1 = int(input(\"Ingresa el primer número: \"))\n",
        "numero2 = int(input(\"Ingresa el segundo número: \"))\n",
        "\n",
        "su = suma(numero1, numero2)\n",
        "res = resta(numero1, numero2)\n",
        "mult = multiplicacion(numero1, numero2)\n",
        "div = division(numero1, numero2)\n",
        "\n",
        "print(\"La suma de los dos números es\", su)\n",
        "print(\"La resta de los dos números es\", res)\n",
        "print(\"La multiplicación de los dos números es:\", mult)\n",
        "print(\"La división de los dos números es:\", div)"
      ],
      "metadata": {
        "colab": {
          "base_uri": "https://localhost:8080/"
        },
        "id": "fCtdPgHzfakH",
        "outputId": "263bbe82-cac6-4ceb-a02f-b0ee8cddcac6"
      },
      "execution_count": 192,
      "outputs": [
        {
          "output_type": "stream",
          "name": "stdout",
          "text": [
            "calculadora estándar\n",
            "Ingresa el primer número: 8\n",
            "Ingresa el segundo número: 5\n",
            "La suma de los dos números es 13\n",
            "La resta de los dos números es 3\n",
            "La multiplicación de los dos números es: 40\n",
            "La división de los dos números es: 1.6\n"
          ]
        }
      ]
    }
  ]
}